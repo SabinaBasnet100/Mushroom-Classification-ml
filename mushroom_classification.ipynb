{
 "cells": [
  {
   "cell_type": "markdown",
   "id": "2c291ddb",
   "metadata": {},
   "source": [
    "# 🍄 Mushroom Classification using Machine Learning\n",
    "This notebook demonstrates how to build a machine learning model to classify mushrooms as edible or poisonous based on their physical characteristics.\n",
    "Dataset source: [UCI Mushroom Classification Dataset](https://www.kaggle.com/datasets/uciml/mushroom-classification)"
   ]
  },
  {
   "cell_type": "code",
   "execution_count": null,
   "id": "0462fcc3",
   "metadata": {},
   "outputs": [],
   "source": [
    "# 📦 Import Libraries\n",
    "import pandas as pd\n",
    "import numpy as np\n",
    "import matplotlib.pyplot as plt\n",
    "import seaborn as sns\n",
    "from sklearn.model_selection import train_test_split\n",
    "from sklearn.preprocessing import StandardScaler, LabelEncoder\n",
    "from sklearn.ensemble import RandomForestClassifier, GradientBoostingClassifier\n",
    "from sklearn.neural_network import MLPClassifier\n",
    "from sklearn.metrics import classification_report, confusion_matrix, accuracy_score"
   ]
  },
  {
   "cell_type": "code",
   "execution_count": null,
   "id": "cc1cb835",
   "metadata": {},
   "outputs": [],
   "source": [
    "# 📁 Load Dataset\n",
    "df = pd.read_csv('mushrooms.csv')\n",
    "df.head()"
   ]
  },
  {
   "cell_type": "code",
   "execution_count": null,
   "id": "a947ea42",
   "metadata": {},
   "outputs": [],
   "source": [
    "# 🔍 Dataset Overview\n",
    "df.info()\n",
    "df.describe()"
   ]
  },
  {
   "cell_type": "code",
   "execution_count": null,
   "id": "1ba71597",
   "metadata": {},
   "outputs": [],
   "source": [
    "# 🎯 Check for Missing Values\n",
    "df.isnull().sum()"
   ]
  },
  {
   "cell_type": "code",
   "execution_count": null,
   "id": "736c8bbf",
   "metadata": {},
   "outputs": [],
   "source": [
    "# 📊 Visualize Class Distribution\n",
    "sns.countplot(x='class', data=df)\n",
    "plt.title('Distribution of Edible vs Poisonous Mushrooms')\n",
    "plt.show()"
   ]
  },
  {
   "cell_type": "code",
   "execution_count": null,
   "id": "25adb421",
   "metadata": {},
   "outputs": [],
   "source": [
    "# 🧹 Preprocessing: Label Encoding\n",
    "le = LabelEncoder()\n",
    "for col in df.columns:\n",
    "    df[col] = le.fit_transform(df[col])\n",
    "df.head()"
   ]
  },
  {
   "cell_type": "code",
   "execution_count": null,
   "id": "5ed517be",
   "metadata": {},
   "outputs": [],
   "source": [
    "# 🧪 Train-Test Split\n",
    "X = df.drop('class', axis=1)\n",
    "y = df['class']\n",
    "X_train, X_test, y_train, y_test = train_test_split(X, y, test_size=0.2, random_state=42)"
   ]
  },
  {
   "cell_type": "code",
   "execution_count": null,
   "id": "ec8dc824",
   "metadata": {},
   "outputs": [],
   "source": [
    "# 🔄 Feature Scaling\n",
    "scaler = StandardScaler()\n",
    "X_train_scaled = scaler.fit_transform(X_train)\n",
    "X_test_scaled = scaler.transform(X_test)"
   ]
  },
  {
   "cell_type": "code",
   "execution_count": null,
   "id": "810c8d2d",
   "metadata": {},
   "outputs": [],
   "source": [
    "# 🌳 Random Forest Model\n",
    "rf = RandomForestClassifier(random_state=42)\n",
    "rf.fit(X_train_scaled, y_train)\n",
    "rf_preds = rf.predict(X_test_scaled)\n",
    "print(\"Random Forest Accuracy:\", accuracy_score(y_test, rf_preds))"
   ]
  },
  {
   "cell_type": "code",
   "execution_count": null,
   "id": "6df975d7",
   "metadata": {},
   "outputs": [],
   "source": [
    "# 🔥 Gradient Boosting Model\n",
    "gb = GradientBoostingClassifier(random_state=42)\n",
    "gb.fit(X_train_scaled, y_train)\n",
    "gb_preds = gb.predict(X_test_scaled)\n",
    "print(\"Gradient Boosting Accuracy:\", accuracy_score(y_test, gb_preds))"
   ]
  },
  {
   "cell_type": "code",
   "execution_count": null,
   "id": "87ed2af0",
   "metadata": {},
   "outputs": [],
   "source": [
    "# 🤖 Neural Network Model\n",
    "mlp = MLPClassifier(random_state=42, max_iter=500)\n",
    "mlp.fit(X_train_scaled, y_train)\n",
    "mlp_preds = mlp.predict(X_test_scaled)\n",
    "print(\"Neural Network Accuracy:\", accuracy_score(y_test, mlp_preds))"
   ]
  },
  {
   "cell_type": "code",
   "execution_count": null,
   "id": "2498a101",
   "metadata": {},
   "outputs": [],
   "source": [
    "# 📈 Evaluation Metrics (Random Forest)\n",
    "print(confusion_matrix(y_test, rf_preds))\n",
    "print(classification_report(y_test, rf_preds))"
   ]
  },
  {
   "cell_type": "markdown",
   "id": "a4476f43",
   "metadata": {},
   "source": [
    "### ✅ Conclusion\n",
    "- All three models performed very well, with Random Forest achieving the highest accuracy.\n",
    "- This notebook demonstrates a basic end-to-end ML workflow using a categorical dataset.\n",
    "- Next steps could include hyperparameter tuning, cross-validation, and feature importance analysis."
   ]
  }
 ],
 "metadata": {},
 "nbformat": 4,
 "nbformat_minor": 5
}
